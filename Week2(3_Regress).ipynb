{
  "nbformat": 4,
  "nbformat_minor": 0,
  "metadata": {
    "colab": {
      "name": "Week2(3 Regress)",
      "version": "0.3.2",
      "provenance": [],
      "collapsed_sections": [],
      "include_colab_link": true
    },
    "kernelspec": {
      "name": "python3",
      "display_name": "Python 3"
    }
  },
  "cells": [
    {
      "cell_type": "markdown",
      "metadata": {
        "id": "view-in-github",
        "colab_type": "text"
      },
      "source": [
        "<a href=\"https://colab.research.google.com/github/Mustufa-kerawala/Time-series-Telstra.ltd-18-9/blob/master/Week2(3_Regress).ipynb\" target=\"_parent\"><img src=\"https://colab.research.google.com/assets/colab-badge.svg\" alt=\"Open In Colab\"/></a>"
      ]
    },
    {
      "cell_type": "code",
      "metadata": {
        "id": "-pQkVjSrnCZ2",
        "colab_type": "code",
        "outputId": "edecdc8e-bb4b-45eb-8655-857eb781e654",
        "colab": {
          "base_uri": "https://localhost:8080/",
          "height": 377
        }
      },
      "source": [
        "# Importing dependencies to create algorithm\n",
        "import numpy as np\n",
        "import pandas as pd\n",
        "import matplotlib.pyplot as plt\n",
        "\n",
        "# Data import\n",
        "from pandas_datareader import data as pdr\n",
        "import fix_yahoo_finance as yf\n",
        "\n",
        "!pip install yfinance --upgrade --no-cache-dir\n",
        "yf.pdr_override()\n",
        "\n",
        "#Mounting to drive maybe an important step fuck knows\n",
        "from google.colab import drive\n",
        "\n",
        "\n",
        "#Modeling\n",
        "from sklearn.linear_model import LinearRegression, Ridge, Lasso\n",
        "from sklearn import preprocessing \n",
        "from sklearn.model_selection import train_test_split\n",
        "from sklearn.ensemble import GradientBoostingRegressor\n",
        "\n",
        "\n",
        "#Modelling Metrics\n",
        "from sklearn import metrics\n"
      ],
      "execution_count": 1,
      "outputs": [
        {
          "output_type": "stream",
          "text": [
            "Collecting yfinance\n",
            "  Downloading https://files.pythonhosted.org/packages/53/0e/40387099824c98be22cd7e33a620e9d38b61998b031f0b33f0b9959717d2/yfinance-0.1.45.tar.gz\n",
            "Requirement already satisfied, skipping upgrade: pandas>=0.24 in /usr/local/lib/python3.6/dist-packages (from yfinance) (0.24.2)\n",
            "Requirement already satisfied, skipping upgrade: numpy>=1.15 in /usr/local/lib/python3.6/dist-packages (from yfinance) (1.16.5)\n",
            "Requirement already satisfied, skipping upgrade: requests>=2.20 in /usr/local/lib/python3.6/dist-packages (from yfinance) (2.21.0)\n",
            "Requirement already satisfied, skipping upgrade: multitasking>=0.0.7 in /usr/local/lib/python3.6/dist-packages (from yfinance) (0.0.9)\n",
            "Requirement already satisfied, skipping upgrade: python-dateutil>=2.5.0 in /usr/local/lib/python3.6/dist-packages (from pandas>=0.24->yfinance) (2.5.3)\n",
            "Requirement already satisfied, skipping upgrade: pytz>=2011k in /usr/local/lib/python3.6/dist-packages (from pandas>=0.24->yfinance) (2018.9)\n",
            "Requirement already satisfied, skipping upgrade: idna<2.9,>=2.5 in /usr/local/lib/python3.6/dist-packages (from requests>=2.20->yfinance) (2.8)\n",
            "Requirement already satisfied, skipping upgrade: chardet<3.1.0,>=3.0.2 in /usr/local/lib/python3.6/dist-packages (from requests>=2.20->yfinance) (3.0.4)\n",
            "Requirement already satisfied, skipping upgrade: urllib3<1.25,>=1.21.1 in /usr/local/lib/python3.6/dist-packages (from requests>=2.20->yfinance) (1.24.3)\n",
            "Requirement already satisfied, skipping upgrade: certifi>=2017.4.17 in /usr/local/lib/python3.6/dist-packages (from requests>=2.20->yfinance) (2019.6.16)\n",
            "Requirement already satisfied, skipping upgrade: six>=1.5 in /usr/local/lib/python3.6/dist-packages (from python-dateutil>=2.5.0->pandas>=0.24->yfinance) (1.12.0)\n",
            "Building wheels for collected packages: yfinance\n",
            "  Building wheel for yfinance (setup.py) ... \u001b[?25l\u001b[?25hdone\n",
            "  Created wheel for yfinance: filename=yfinance-0.1.45-cp36-none-any.whl size=14652 sha256=3527c453f0bf724dc5173fc1a9def4c8306614932215904a330dc7c5b7921240\n",
            "  Stored in directory: /tmp/pip-ephem-wheel-cache-rdgbyymg/wheels/0c/d1/df/aa9a7744a4ac353cc9a1f2c3aaea7c1f457fc49de4286f2d88\n",
            "Successfully built yfinance\n",
            "Installing collected packages: yfinance\n",
            "Successfully installed yfinance-0.1.45\n"
          ],
          "name": "stdout"
        }
      ]
    },
    {
      "cell_type": "code",
      "metadata": {
        "id": "vJJ7zv0iNTUX",
        "colab_type": "code",
        "colab": {
          "base_uri": "https://localhost:8080/",
          "height": 139
        },
        "outputId": "87d96563-3fcc-4891-bc64-e1162cefa480"
      },
      "source": [
        "#Another mounting step irrelevant tbh\n",
        "drive.mount('/content/drive',force_remount=True)\n",
        "%cd \"/content/drive/My Drive/\"\n"
      ],
      "execution_count": 2,
      "outputs": [
        {
          "output_type": "stream",
          "text": [
            "Go to this URL in a browser: https://accounts.google.com/o/oauth2/auth?client_id=947318989803-6bn6qk8qdgf4n4g3pfee6491hc0brc4i.apps.googleusercontent.com&redirect_uri=urn%3Aietf%3Awg%3Aoauth%3A2.0%3Aoob&scope=email%20https%3A%2F%2Fwww.googleapis.com%2Fauth%2Fdocs.test%20https%3A%2F%2Fwww.googleapis.com%2Fauth%2Fdrive%20https%3A%2F%2Fwww.googleapis.com%2Fauth%2Fdrive.photos.readonly%20https%3A%2F%2Fwww.googleapis.com%2Fauth%2Fpeopleapi.readonly&response_type=code\n",
            "\n",
            "Enter your authorization code:\n",
            "··········\n",
            "Mounted at /content/drive\n",
            "/content/drive/My Drive\n"
          ],
          "name": "stdout"
        }
      ]
    },
    {
      "cell_type": "code",
      "metadata": {
        "id": "NyEOCr_LSxGq",
        "colab_type": "code",
        "outputId": "516c4767-3205-4021-e5db-35b23862f846",
        "colab": {
          "base_uri": "https://localhost:8080/",
          "height": 34
        }
      },
      "source": [
        "#Retrieving the dataset from yahoo finance and turning it into a csv\n",
        "df_full = pdr.get_data_yahoo(\"TLS.AX\", start=\"2018-01-01\").reset_index()\n",
        "\n",
        "df_full.to_csv('TLS.AX.csv',index=False)\n"
      ],
      "execution_count": 3,
      "outputs": [
        {
          "output_type": "stream",
          "text": [
            "[*********************100%***********************]  1 of 1 downloaded\n"
          ],
          "name": "stdout"
        }
      ]
    },
    {
      "cell_type": "code",
      "metadata": {
        "id": "3_MVXnAmTxYK",
        "colab_type": "code",
        "colab": {
          "base_uri": "https://localhost:8080/",
          "height": 34
        },
        "outputId": "eb2a7e57-ac9a-43ce-9b4d-e52fd493cb72"
      },
      "source": [
        "#Tells us the number of observations and columns aka shape \n",
        "df_full.shape"
      ],
      "execution_count": 4,
      "outputs": [
        {
          "output_type": "execute_result",
          "data": {
            "text/plain": [
              "(428, 7)"
            ]
          },
          "metadata": {
            "tags": []
          },
          "execution_count": 4
        }
      ]
    },
    {
      "cell_type": "code",
      "metadata": {
        "id": "VwvV3sIEUSsc",
        "colab_type": "code",
        "colab": {
          "base_uri": "https://localhost:8080/",
          "height": 204
        },
        "outputId": "d1290026-3c32-436c-b9df-97f710aa2434"
      },
      "source": [
        "df_full.head()\n"
      ],
      "execution_count": 5,
      "outputs": [
        {
          "output_type": "execute_result",
          "data": {
            "text/html": [
              "<div>\n",
              "<style scoped>\n",
              "    .dataframe tbody tr th:only-of-type {\n",
              "        vertical-align: middle;\n",
              "    }\n",
              "\n",
              "    .dataframe tbody tr th {\n",
              "        vertical-align: top;\n",
              "    }\n",
              "\n",
              "    .dataframe thead th {\n",
              "        text-align: right;\n",
              "    }\n",
              "</style>\n",
              "<table border=\"1\" class=\"dataframe\">\n",
              "  <thead>\n",
              "    <tr style=\"text-align: right;\">\n",
              "      <th></th>\n",
              "      <th>Date</th>\n",
              "      <th>Open</th>\n",
              "      <th>High</th>\n",
              "      <th>Low</th>\n",
              "      <th>Close</th>\n",
              "      <th>Adj Close</th>\n",
              "      <th>Volume</th>\n",
              "    </tr>\n",
              "  </thead>\n",
              "  <tbody>\n",
              "    <tr>\n",
              "      <th>0</th>\n",
              "      <td>2018-01-02</td>\n",
              "      <td>3.64</td>\n",
              "      <td>3.675</td>\n",
              "      <td>3.630</td>\n",
              "      <td>3.66</td>\n",
              "      <td>3.395713</td>\n",
              "      <td>8990912</td>\n",
              "    </tr>\n",
              "    <tr>\n",
              "      <th>1</th>\n",
              "      <td>2018-01-03</td>\n",
              "      <td>3.67</td>\n",
              "      <td>3.685</td>\n",
              "      <td>3.645</td>\n",
              "      <td>3.66</td>\n",
              "      <td>3.395713</td>\n",
              "      <td>12418563</td>\n",
              "    </tr>\n",
              "    <tr>\n",
              "      <th>2</th>\n",
              "      <td>2018-01-04</td>\n",
              "      <td>3.68</td>\n",
              "      <td>3.690</td>\n",
              "      <td>3.670</td>\n",
              "      <td>3.68</td>\n",
              "      <td>3.414269</td>\n",
              "      <td>12158560</td>\n",
              "    </tr>\n",
              "    <tr>\n",
              "      <th>3</th>\n",
              "      <td>2018-01-05</td>\n",
              "      <td>3.70</td>\n",
              "      <td>3.730</td>\n",
              "      <td>3.690</td>\n",
              "      <td>3.73</td>\n",
              "      <td>3.460658</td>\n",
              "      <td>18064317</td>\n",
              "    </tr>\n",
              "    <tr>\n",
              "      <th>4</th>\n",
              "      <td>2018-01-08</td>\n",
              "      <td>3.74</td>\n",
              "      <td>3.760</td>\n",
              "      <td>3.730</td>\n",
              "      <td>3.75</td>\n",
              "      <td>3.479214</td>\n",
              "      <td>18490173</td>\n",
              "    </tr>\n",
              "  </tbody>\n",
              "</table>\n",
              "</div>"
            ],
            "text/plain": [
              "        Date  Open   High    Low  Close  Adj Close    Volume\n",
              "0 2018-01-02  3.64  3.675  3.630   3.66   3.395713   8990912\n",
              "1 2018-01-03  3.67  3.685  3.645   3.66   3.395713  12418563\n",
              "2 2018-01-04  3.68  3.690  3.670   3.68   3.414269  12158560\n",
              "3 2018-01-05  3.70  3.730  3.690   3.73   3.460658  18064317\n",
              "4 2018-01-08  3.74  3.760  3.730   3.75   3.479214  18490173"
            ]
          },
          "metadata": {
            "tags": []
          },
          "execution_count": 5
        }
      ]
    },
    {
      "cell_type": "markdown",
      "metadata": {
        "id": "RkFSyO_6nIGL",
        "colab_type": "text"
      },
      "source": [
        ""
      ]
    },
    {
      "cell_type": "code",
      "metadata": {
        "id": "kxUTDY5WU3Qj",
        "colab_type": "code",
        "colab": {
          "base_uri": "https://localhost:8080/",
          "height": 297
        },
        "outputId": "9e6ea692-196f-446c-84a0-6b7917df2d90"
      },
      "source": [
        "#This command gives us summary stats of all the data in each column\n",
        "df_full.describe()\n"
      ],
      "execution_count": 6,
      "outputs": [
        {
          "output_type": "execute_result",
          "data": {
            "text/html": [
              "<div>\n",
              "<style scoped>\n",
              "    .dataframe tbody tr th:only-of-type {\n",
              "        vertical-align: middle;\n",
              "    }\n",
              "\n",
              "    .dataframe tbody tr th {\n",
              "        vertical-align: top;\n",
              "    }\n",
              "\n",
              "    .dataframe thead th {\n",
              "        text-align: right;\n",
              "    }\n",
              "</style>\n",
              "<table border=\"1\" class=\"dataframe\">\n",
              "  <thead>\n",
              "    <tr style=\"text-align: right;\">\n",
              "      <th></th>\n",
              "      <th>Open</th>\n",
              "      <th>High</th>\n",
              "      <th>Low</th>\n",
              "      <th>Close</th>\n",
              "      <th>Adj Close</th>\n",
              "      <th>Volume</th>\n",
              "    </tr>\n",
              "  </thead>\n",
              "  <tbody>\n",
              "    <tr>\n",
              "      <th>count</th>\n",
              "      <td>428.000000</td>\n",
              "      <td>428.000000</td>\n",
              "      <td>428.000000</td>\n",
              "      <td>428.000000</td>\n",
              "      <td>428.000000</td>\n",
              "      <td>4.280000e+02</td>\n",
              "    </tr>\n",
              "    <tr>\n",
              "      <th>mean</th>\n",
              "      <td>3.250841</td>\n",
              "      <td>3.280210</td>\n",
              "      <td>3.222956</td>\n",
              "      <td>3.254381</td>\n",
              "      <td>3.144479</td>\n",
              "      <td>2.922945e+07</td>\n",
              "    </tr>\n",
              "    <tr>\n",
              "      <th>std</th>\n",
              "      <td>0.344743</td>\n",
              "      <td>0.345147</td>\n",
              "      <td>0.343742</td>\n",
              "      <td>0.345147</td>\n",
              "      <td>0.361026</td>\n",
              "      <td>1.443035e+07</td>\n",
              "    </tr>\n",
              "    <tr>\n",
              "      <th>min</th>\n",
              "      <td>2.620000</td>\n",
              "      <td>2.640000</td>\n",
              "      <td>2.600000</td>\n",
              "      <td>2.620000</td>\n",
              "      <td>2.484196</td>\n",
              "      <td>8.252280e+06</td>\n",
              "    </tr>\n",
              "    <tr>\n",
              "      <th>25%</th>\n",
              "      <td>2.997500</td>\n",
              "      <td>3.030000</td>\n",
              "      <td>2.967500</td>\n",
              "      <td>3.020000</td>\n",
              "      <td>2.918566</td>\n",
              "      <td>1.994071e+07</td>\n",
              "    </tr>\n",
              "    <tr>\n",
              "      <th>50%</th>\n",
              "      <td>3.200000</td>\n",
              "      <td>3.235000</td>\n",
              "      <td>3.180000</td>\n",
              "      <td>3.205000</td>\n",
              "      <td>3.097710</td>\n",
              "      <td>2.610984e+07</td>\n",
              "    </tr>\n",
              "    <tr>\n",
              "      <th>75%</th>\n",
              "      <td>3.530000</td>\n",
              "      <td>3.562500</td>\n",
              "      <td>3.492500</td>\n",
              "      <td>3.522500</td>\n",
              "      <td>3.341203</td>\n",
              "      <td>3.412221e+07</td>\n",
              "    </tr>\n",
              "    <tr>\n",
              "      <th>max</th>\n",
              "      <td>3.980000</td>\n",
              "      <td>4.010000</td>\n",
              "      <td>3.950000</td>\n",
              "      <td>3.990000</td>\n",
              "      <td>3.936658</td>\n",
              "      <td>1.240131e+08</td>\n",
              "    </tr>\n",
              "  </tbody>\n",
              "</table>\n",
              "</div>"
            ],
            "text/plain": [
              "             Open        High         Low       Close   Adj Close        Volume\n",
              "count  428.000000  428.000000  428.000000  428.000000  428.000000  4.280000e+02\n",
              "mean     3.250841    3.280210    3.222956    3.254381    3.144479  2.922945e+07\n",
              "std      0.344743    0.345147    0.343742    0.345147    0.361026  1.443035e+07\n",
              "min      2.620000    2.640000    2.600000    2.620000    2.484196  8.252280e+06\n",
              "25%      2.997500    3.030000    2.967500    3.020000    2.918566  1.994071e+07\n",
              "50%      3.200000    3.235000    3.180000    3.205000    3.097710  2.610984e+07\n",
              "75%      3.530000    3.562500    3.492500    3.522500    3.341203  3.412221e+07\n",
              "max      3.980000    4.010000    3.950000    3.990000    3.936658  1.240131e+08"
            ]
          },
          "metadata": {
            "tags": []
          },
          "execution_count": 6
        }
      ]
    },
    {
      "cell_type": "code",
      "metadata": {
        "id": "5klwBudhVfym",
        "colab_type": "code",
        "colab": {
          "base_uri": "https://localhost:8080/",
          "height": 286
        },
        "outputId": "ca4a9841-e65e-421b-e6be-375e55e9b34c"
      },
      "source": [
        "df_full[\"Adj Close\"].plot()\n"
      ],
      "execution_count": 7,
      "outputs": [
        {
          "output_type": "execute_result",
          "data": {
            "text/plain": [
              "<matplotlib.axes._subplots.AxesSubplot at 0x7f997e8ec940>"
            ]
          },
          "metadata": {
            "tags": []
          },
          "execution_count": 7
        },
        {
          "output_type": "display_data",
          "data": {
            "image/png": "[encoded data removed]",
            "text/plain": [
              "<Figure size 432x288 with 1 Axes>"
            ]
          },
          "metadata": {
            "tags": []
          }
        }
      ]
    },
    {
      "cell_type": "code",
      "metadata": {
        "id": "tenjfgfiVqaj",
        "colab_type": "code",
        "colab": {}
      },
      "source": [
        "#Setting the date as an index to pre-process the data \n",
        "df_full.set_index(\"Date\", inplace=True)\n"
      ],
      "execution_count": 0,
      "outputs": []
    },
    {
      "cell_type": "code",
      "metadata": {
        "id": "JVVX7h79Ws56",
        "colab_type": "code",
        "colab": {
          "base_uri": "https://localhost:8080/",
          "height": 235
        },
        "outputId": "75b7ac01-4fb0-4c29-fb9e-a6badff48712"
      },
      "source": [
        "#Brief screenshot of the data \n",
        "df_full.head()\n"
      ],
      "execution_count": 9,
      "outputs": [
        {
          "output_type": "execute_result",
          "data": {
            "text/html": [
              "<div>\n",
              "<style scoped>\n",
              "    .dataframe tbody tr th:only-of-type {\n",
              "        vertical-align: middle;\n",
              "    }\n",
              "\n",
              "    .dataframe tbody tr th {\n",
              "        vertical-align: top;\n",
              "    }\n",
              "\n",
              "    .dataframe thead th {\n",
              "        text-align: right;\n",
              "    }\n",
              "</style>\n",
              "<table border=\"1\" class=\"dataframe\">\n",
              "  <thead>\n",
              "    <tr style=\"text-align: right;\">\n",
              "      <th></th>\n",
              "      <th>Open</th>\n",
              "      <th>High</th>\n",
              "      <th>Low</th>\n",
              "      <th>Close</th>\n",
              "      <th>Adj Close</th>\n",
              "      <th>Volume</th>\n",
              "    </tr>\n",
              "    <tr>\n",
              "      <th>Date</th>\n",
              "      <th></th>\n",
              "      <th></th>\n",
              "      <th></th>\n",
              "      <th></th>\n",
              "      <th></th>\n",
              "      <th></th>\n",
              "    </tr>\n",
              "  </thead>\n",
              "  <tbody>\n",
              "    <tr>\n",
              "      <th>2018-01-02</th>\n",
              "      <td>3.64</td>\n",
              "      <td>3.675</td>\n",
              "      <td>3.630</td>\n",
              "      <td>3.66</td>\n",
              "      <td>3.395713</td>\n",
              "      <td>8990912</td>\n",
              "    </tr>\n",
              "    <tr>\n",
              "      <th>2018-01-03</th>\n",
              "      <td>3.67</td>\n",
              "      <td>3.685</td>\n",
              "      <td>3.645</td>\n",
              "      <td>3.66</td>\n",
              "      <td>3.395713</td>\n",
              "      <td>12418563</td>\n",
              "    </tr>\n",
              "    <tr>\n",
              "      <th>2018-01-04</th>\n",
              "      <td>3.68</td>\n",
              "      <td>3.690</td>\n",
              "      <td>3.670</td>\n",
              "      <td>3.68</td>\n",
              "      <td>3.414269</td>\n",
              "      <td>12158560</td>\n",
              "    </tr>\n",
              "    <tr>\n",
              "      <th>2018-01-05</th>\n",
              "      <td>3.70</td>\n",
              "      <td>3.730</td>\n",
              "      <td>3.690</td>\n",
              "      <td>3.73</td>\n",
              "      <td>3.460658</td>\n",
              "      <td>18064317</td>\n",
              "    </tr>\n",
              "    <tr>\n",
              "      <th>2018-01-08</th>\n",
              "      <td>3.74</td>\n",
              "      <td>3.760</td>\n",
              "      <td>3.730</td>\n",
              "      <td>3.75</td>\n",
              "      <td>3.479214</td>\n",
              "      <td>18490173</td>\n",
              "    </tr>\n",
              "  </tbody>\n",
              "</table>\n",
              "</div>"
            ],
            "text/plain": [
              "            Open   High    Low  Close  Adj Close    Volume\n",
              "Date                                                      \n",
              "2018-01-02  3.64  3.675  3.630   3.66   3.395713   8990912\n",
              "2018-01-03  3.67  3.685  3.645   3.66   3.395713  12418563\n",
              "2018-01-04  3.68  3.690  3.670   3.68   3.414269  12158560\n",
              "2018-01-05  3.70  3.730  3.690   3.73   3.460658  18064317\n",
              "2018-01-08  3.74  3.760  3.730   3.75   3.479214  18490173"
            ]
          },
          "metadata": {
            "tags": []
          },
          "execution_count": 9
        }
      ]
    },
    {
      "cell_type": "code",
      "metadata": {
        "id": "9pHrH5J6WxOY",
        "colab_type": "code",
        "colab": {}
      },
      "source": [
        "window_size = 32\n",
        "num_samples = len(df_full)-window_size\n",
        "\n",
        "#Making the data into an array\n",
        "indices = np.arange(num_samples).astype(np.int)[:,None]+np.arange(window_size+1).astype(np.int)\n",
        "\n",
        "data = df_full['Adj Close'].values[indices]#making a 2D matrix\n",
        "\n",
        "x = data[:,:-1] # Each row represents 32 days in the past\n",
        "y = data[:,-1] # Each output value represents the 33rd day"
      ],
      "execution_count": 0,
      "outputs": []
    },
    {
      "cell_type": "code",
      "metadata": {
        "id": "1Lee4evOjIGJ",
        "colab_type": "code",
        "colab": {}
      },
      "source": [
        "#Splitting the data for cross validation ie to train alg\n",
        "split_fraction=0.8\n",
        "ind_split=int(split_fraction*num_samples)\n"
      ],
      "execution_count": 0,
      "outputs": []
    },
    {
      "cell_type": "code",
      "metadata": {
        "id": "eyLcA1iDmrgs",
        "colab_type": "code",
        "colab": {}
      },
      "source": [
        "#Training the algorithm\n",
        "x_train = x[:ind_split]\n",
        "y_train = y[:ind_split]\n",
        "x_test = x[ind_split:]\n",
        "y_test = y[ind_split:]"
      ],
      "execution_count": 0,
      "outputs": []
    },
    {
      "cell_type": "code",
      "metadata": {
        "id": "4v_h--JIm0CP",
        "colab_type": "code",
        "outputId": "85a2789b-0d42-4c5a-f265-089bb931d52e",
        "colab": {
          "base_uri": "https://localhost:8080/",
          "height": 34
        }
      },
      "source": [
        "#shows the shape of the data \n",
        "y_test.shape"
      ],
      "execution_count": 13,
      "outputs": [
        {
          "output_type": "execute_result",
          "data": {
            "text/plain": [
              "(80,)"
            ]
          },
          "metadata": {
            "tags": []
          },
          "execution_count": 13
        }
      ]
    },
    {
      "cell_type": "markdown",
      "metadata": {
        "id": "mXq7VfuLuGLL",
        "colab_type": "text"
      },
      "source": [
        "# Baseline to compare "
      ]
    },
    {
      "cell_type": "code",
      "metadata": {
        "id": "MFLUmiAJqf--",
        "colab_type": "code",
        "colab": {}
      },
      "source": [
        "#Creating a model by defining functions\n",
        "#Help Functions\n",
        "def get_performance (model_pred):\n",
        "  #Function returns standard performance metrics\n",
        "  print('Mean Absolute Error:', metrics.mean_absolute_error(y_test, model_pred).round(4))  \n",
        "  print('Mean Squared Error:', metrics.mean_squared_error(y_test, model_pred).round(4))  \n",
        "  print('Root Mean Squared Error:', np.sqrt(metrics.mean_squared_error(y_test, model_pred)).round(4))\n",
        "  \n",
        "  \n",
        "def get_plot (model_pred):\n",
        "  \n",
        "  plt.scatter(model_pred, y_test, color=\"gray\")\n",
        "  plt.plot(y_test, y_test, color='red', linewidth=2)"
      ],
      "execution_count": 0,
      "outputs": []
    },
    {
      "cell_type": "code",
      "metadata": {
        "id": "NHamQ48gryF7",
        "colab_type": "code",
        "colab": {}
      },
      "source": [
        "y_pred_lag=np.roll(y_test,1)\n"
      ],
      "execution_count": 0,
      "outputs": []
    },
    {
      "cell_type": "code",
      "metadata": {
        "id": "WVwJkDPZs5tC",
        "colab_type": "code",
        "outputId": "4a8c88b3-3274-4d61-ee1b-36a68f2043b7",
        "colab": {
          "base_uri": "https://localhost:8080/",
          "height": 68
        }
      },
      "source": [
        "get_performance(y_pred_lag)\n"
      ],
      "execution_count": 16,
      "outputs": [
        {
          "output_type": "stream",
          "text": [
            "Mean Absolute Error: 0.0368\n",
            "Mean Squared Error: 0.0021\n",
            "Root Mean Squared Error: 0.0453\n"
          ],
          "name": "stdout"
        }
      ]
    },
    {
      "cell_type": "code",
      "metadata": {
        "id": "ZonpzLH7s_FO",
        "colab_type": "code",
        "colab": {
          "base_uri": "https://localhost:8080/",
          "height": 269
        },
        "outputId": "c35b27eb-ef74-4d7e-9ca4-6215dadc3bde"
      },
      "source": [
        "get_plot(y_pred_lag)\n"
      ],
      "execution_count": 17,
      "outputs": [
        {
          "output_type": "display_data",
          "data": {
            "image/png": "[encoded data removed]",
            "text/plain": [
              "<Figure size 432x288 with 1 Axes>"
            ]
          },
          "metadata": {
            "tags": []
          }
        }
      ]
    },
    {
      "cell_type": "markdown",
      "metadata": {
        "id": "MOH6BbsWF-kU",
        "colab_type": "text"
      },
      "source": [
        "# Linear Regression\n"
      ]
    },
    {
      "cell_type": "code",
      "metadata": {
        "id": "EAYf-6ipucFs",
        "colab_type": "code",
        "colab": {
          "base_uri": "https://localhost:8080/",
          "height": 34
        },
        "outputId": "5b001b9d-aa97-4144-df13-8fec0c237462"
      },
      "source": [
        "model_lr=LinearRegression()\n",
        "model_lr.fit(x_train, y_train)\n",
        "             "
      ],
      "execution_count": 18,
      "outputs": [
        {
          "output_type": "execute_result",
          "data": {
            "text/plain": [
              "LinearRegression(copy_X=True, fit_intercept=True, n_jobs=None, normalize=False)"
            ]
          },
          "metadata": {
            "tags": []
          },
          "execution_count": 18
        }
      ]
    },
    {
      "cell_type": "code",
      "metadata": {
        "id": "S7EO3dprCZy0",
        "colab_type": "code",
        "colab": {}
      },
      "source": [
        "y_pred_lr=model_lr.predict(x_test)\n"
      ],
      "execution_count": 0,
      "outputs": []
    },
    {
      "cell_type": "code",
      "metadata": {
        "id": "VYMhY9T8D5pG",
        "colab_type": "code",
        "outputId": "abd72b47-e6b6-47cc-ed10-7646830d14d9",
        "colab": {
          "base_uri": "https://localhost:8080/",
          "height": 68
        }
      },
      "source": [
        "get_performance(y_pred_lr)\n"
      ],
      "execution_count": 20,
      "outputs": [
        {
          "output_type": "stream",
          "text": [
            "Mean Absolute Error: 0.0419\n",
            "Mean Squared Error: 0.0025\n",
            "Root Mean Squared Error: 0.0504\n"
          ],
          "name": "stdout"
        }
      ]
    },
    {
      "cell_type": "code",
      "metadata": {
        "id": "jvyy4sGVGKLK",
        "colab_type": "code",
        "colab": {
          "base_uri": "https://localhost:8080/",
          "height": 269
        },
        "outputId": "0c4044ec-71b5-4332-a5b7-75c70d70a469"
      },
      "source": [
        "get_plot(y_pred_lr)\n"
      ],
      "execution_count": 21,
      "outputs": [
        {
          "output_type": "display_data",
          "data": {
            "image/png": "[encoded data removed]",
            "text/plain": [
              "<Figure size 432x288 with 1 Axes>"
            ]
          },
          "metadata": {
            "tags": []
          }
        }
      ]
    },
    {
      "cell_type": "code",
      "metadata": {
        "id": "4Wp8gm7QN2yE",
        "colab_type": "code",
        "colab": {
          "base_uri": "https://localhost:8080/",
          "height": 136
        },
        "outputId": "a4d1705d-115d-4b1d-e320-75dc4270ca4f"
      },
      "source": [
        "#Predicted Slope coefficients of Telstra\n",
        "model_lr.coef_\n"
      ],
      "execution_count": 22,
      "outputs": [
        {
          "output_type": "execute_result",
          "data": {
            "text/plain": [
              "array([-0.02778221, -0.01473755, -0.00419343, -0.02060685,  0.03296298,\n",
              "       -0.09817187,  0.06888865,  0.0824589 ,  0.01734837,  0.01914763,\n",
              "       -0.08520218,  0.06504177, -0.03679151, -0.01621324, -0.17111087,\n",
              "        0.21115417, -0.09240473,  0.00473006, -0.01808922,  0.18761812,\n",
              "       -0.01181111, -0.12225859,  0.11038443, -0.08858371,  0.09913304,\n",
              "       -0.19514234, -0.01074906,  0.12461479, -0.0256337 ,  0.09999469,\n",
              "       -0.11986464,  1.01631959])"
            ]
          },
          "metadata": {
            "tags": []
          },
          "execution_count": 22
        }
      ]
    },
    {
      "cell_type": "code",
      "metadata": {
        "id": "6cVuDHRuOcN5",
        "colab_type": "code",
        "colab": {
          "base_uri": "https://localhost:8080/",
          "height": 34
        },
        "outputId": "53385519-6a3d-4b96-bea6-757a808a91e3"
      },
      "source": [
        "#Intercept\n",
        "model_lr.intercept_\n"
      ],
      "execution_count": 23,
      "outputs": [
        {
          "output_type": "execute_result",
          "data": {
            "text/plain": [
              "0.059192465408580475"
            ]
          },
          "metadata": {
            "tags": []
          },
          "execution_count": 23
        }
      ]
    },
    {
      "cell_type": "markdown",
      "metadata": {
        "id": "cmR8PrUnMcrU",
        "colab_type": "text"
      },
      "source": [
        "# Ridge Regression\n"
      ]
    },
    {
      "cell_type": "code",
      "metadata": {
        "id": "lhYaZgYJMbU6",
        "colab_type": "code",
        "colab": {}
      },
      "source": [
        "model_ridge = Ridge()\n",
        "model_ridge.fit(x_train, y_train)\n",
        "\n",
        "#generate predictions\n",
        "y_pred_ridge=model_ridge.predict(x_test)"
      ],
      "execution_count": 0,
      "outputs": []
    },
    {
      "cell_type": "code",
      "metadata": {
        "id": "T7rFnMxVMv1X",
        "colab_type": "code",
        "colab": {
          "base_uri": "https://localhost:8080/",
          "height": 68
        },
        "outputId": "e8a5e012-561c-4af6-b4dd-fc558846747d"
      },
      "source": [
        "get_performance(y_pred_ridge)\n"
      ],
      "execution_count": 25,
      "outputs": [
        {
          "output_type": "stream",
          "text": [
            "Mean Absolute Error: 0.0433\n",
            "Mean Squared Error: 0.0028\n",
            "Root Mean Squared Error: 0.0525\n"
          ],
          "name": "stdout"
        }
      ]
    },
    {
      "cell_type": "markdown",
      "metadata": {
        "id": "f6Ymtd1GumVh",
        "colab_type": "text"
      },
      "source": [
        ""
      ]
    },
    {
      "cell_type": "code",
      "metadata": {
        "id": "wbgbJfJ5QR_P",
        "colab_type": "code",
        "colab": {
          "base_uri": "https://localhost:8080/",
          "height": 269
        },
        "outputId": "4a97d4f0-e24a-45ca-aea1-1602bcda7cde"
      },
      "source": [
        "get_plot(y_pred_ridge)\n"
      ],
      "execution_count": 26,
      "outputs": [
        {
          "output_type": "display_data",
          "data": {
            "image/png": "[encoded data removed]",
            "text/plain": [
              "<Figure size 432x288 with 1 Axes>"
            ]
          },
          "metadata": {
            "tags": []
          }
        }
      ]
    },
    {
      "cell_type": "markdown",
      "metadata": {
        "id": "Ip0AQGMqU11R",
        "colab_type": "text"
      },
      "source": [
        "Lasso Regression"
      ]
    },
    {
      "cell_type": "code",
      "metadata": {
        "id": "pji-Ry3OU1O6",
        "colab_type": "code",
        "colab": {
          "base_uri": "https://localhost:8080/",
          "height": 68
        },
        "outputId": "4fc3090a-7ac2-4b15-c3ed-79a939e6bd95"
      },
      "source": [
        "model_lasso = Lasso()\n",
        "model_lasso.fit(x_train, y_train)\n"
      ],
      "execution_count": 27,
      "outputs": [
        {
          "output_type": "execute_result",
          "data": {
            "text/plain": [
              "Lasso(alpha=1.0, copy_X=True, fit_intercept=True, max_iter=1000,\n",
              "      normalize=False, positive=False, precompute=False, random_state=None,\n",
              "      selection='cyclic', tol=0.0001, warm_start=False)"
            ]
          },
          "metadata": {
            "tags": []
          },
          "execution_count": 27
        }
      ]
    },
    {
      "cell_type": "code",
      "metadata": {
        "id": "neuTXZtLVMX_",
        "colab_type": "code",
        "colab": {}
      },
      "source": [
        "y_pred_lasso = model_lasso.predict(x_test)\n"
      ],
      "execution_count": 0,
      "outputs": []
    },
    {
      "cell_type": "code",
      "metadata": {
        "id": "iEVkBClIVXfv",
        "colab_type": "code",
        "outputId": "d5fd03db-c1ed-4e8b-c8a5-d5117d55c781",
        "colab": {
          "base_uri": "https://localhost:8080/",
          "height": 68
        }
      },
      "source": [
        "get_performance(y_pred_lasso)\n",
        "\n"
      ],
      "execution_count": 29,
      "outputs": [
        {
          "output_type": "stream",
          "text": [
            "Mean Absolute Error: 0.7568\n",
            "Mean Squared Error: 0.586\n",
            "Root Mean Squared Error: 0.7655\n"
          ],
          "name": "stdout"
        }
      ]
    },
    {
      "cell_type": "code",
      "metadata": {
        "id": "gum6eGMaVklJ",
        "colab_type": "code",
        "outputId": "04da0408-71ab-412d-b1fb-5add3e4d557d",
        "colab": {
          "base_uri": "https://localhost:8080/",
          "height": 269
        }
      },
      "source": [
        "get_plot(y_pred_lasso)"
      ],
      "execution_count": 30,
      "outputs": [
        {
          "output_type": "display_data",
          "data": {
            "image/png": "[encoded data removed]",
            "text/plain": [
              "<Figure size 432x288 with 1 Axes>"
            ]
          },
          "metadata": {
            "tags": []
          }
        }
      ]
    }
  ]
}