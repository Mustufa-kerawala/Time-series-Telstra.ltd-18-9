{
  "nbformat": 4,
  "nbformat_minor": 0,
  "metadata": {
    "colab": {
      "name": "Week2(3 Regress)",
      "version": "0.3.2",
      "provenance": [],
      "collapsed_sections": [],
      "include_colab_link": true
    },
    "kernelspec": {
      "name": "python3",
      "display_name": "Python 3"
    }
  },
  "cells": [
    {
      "cell_type": "markdown",
      "metadata": {
        "id": "view-in-github",
        "colab_type": "text"
      },
      "source": [
        "<a href=\"https://colab.research.google.com/github/Mustufa-kerawala/Time-series-Telstra.ltd-18-9/blob/master/Week2(3_Regress).ipynb\" target=\"_parent\"><img src=\"https://colab.research.google.com/assets/colab-badge.svg\" alt=\"Open In Colab\"/></a>"
      ]
    },
    {
      "cell_type": "code",
      "metadata": {
        "id": "-pQkVjSrnCZ2",
        "colab_type": "code",
        "outputId": "76d50296-c203-42fc-ea8d-317d2b5f414a",
        "colab": {
          "base_uri": "https://localhost:8080/",
          "height": 377
        }
      },
      "source": [
        "# Importing dependencies to create algorithm\n",
        "import numpy as np\n",
        "import pandas as pd\n",
        "import matplotlib.pyplot as plt\n",
        "\n",
        "# Data import\n",
        "from pandas_datareader import data as pdr\n",
        "import fix_yahoo_finance as yf\n",
        "\n",
        "!pip install yfinance --upgrade --no-cache-dir\n",
        "yf.pdr_override()\n",
        "\n",
        "#Mounting to drive maybe an important step fuck knows\n",
        "from google.colab import drive\n",
        "\n",
        "\n",
        "#Modeling\n",
        "from sklearn.linear_model import LinearRegression, Ridge, Lasso\n",
        "from sklearn import preprocessing \n",
        "from sklearn.model_selection import train_test_split\n",
        "from sklearn.ensemble import GradientBoostingRegressor\n",
        "\n",
        "\n",
        "#Modelling Metrics\n",
        "from sklearn import metrics\n"
      ],
      "execution_count": 0,
      "outputs": [
        {
          "output_type": "stream",
          "text": [
            "Collecting yfinance\n",
            "  Downloading https://files.pythonhosted.org/packages/53/0e/40387099824c98be22cd7e33a620e9d38b61998b031f0b33f0b9959717d2/yfinance-0.1.45.tar.gz\n",
            "Requirement already satisfied, skipping upgrade: pandas>=0.24 in /usr/local/lib/python3.6/dist-packages (from yfinance) (0.24.2)\n",
            "Requirement already satisfied, skipping upgrade: numpy>=1.15 in /usr/local/lib/python3.6/dist-packages (from yfinance) (1.16.5)\n",
            "Requirement already satisfied, skipping upgrade: requests>=2.20 in /usr/local/lib/python3.6/dist-packages (from yfinance) (2.21.0)\n",
            "Requirement already satisfied, skipping upgrade: multitasking>=0.0.7 in /usr/local/lib/python3.6/dist-packages (from yfinance) (0.0.9)\n",
            "Requirement already satisfied, skipping upgrade: pytz>=2011k in /usr/local/lib/python3.6/dist-packages (from pandas>=0.24->yfinance) (2018.9)\n",
            "Requirement already satisfied, skipping upgrade: python-dateutil>=2.5.0 in /usr/local/lib/python3.6/dist-packages (from pandas>=0.24->yfinance) (2.5.3)\n",
            "Requirement already satisfied, skipping upgrade: chardet<3.1.0,>=3.0.2 in /usr/local/lib/python3.6/dist-packages (from requests>=2.20->yfinance) (3.0.4)\n",
            "Requirement already satisfied, skipping upgrade: idna<2.9,>=2.5 in /usr/local/lib/python3.6/dist-packages (from requests>=2.20->yfinance) (2.8)\n",
            "Requirement already satisfied, skipping upgrade: urllib3<1.25,>=1.21.1 in /usr/local/lib/python3.6/dist-packages (from requests>=2.20->yfinance) (1.24.3)\n",
            "Requirement already satisfied, skipping upgrade: certifi>=2017.4.17 in /usr/local/lib/python3.6/dist-packages (from requests>=2.20->yfinance) (2019.6.16)\n",
            "Requirement already satisfied, skipping upgrade: six>=1.5 in /usr/local/lib/python3.6/dist-packages (from python-dateutil>=2.5.0->pandas>=0.24->yfinance) (1.12.0)\n",
            "Building wheels for collected packages: yfinance\n",
            "  Building wheel for yfinance (setup.py) ... \u001b[?25l\u001b[?25hdone\n",
            "  Created wheel for yfinance: filename=yfinance-0.1.45-cp36-none-any.whl size=14652 sha256=a1042896da86d9eaa8680e8c20abfdd34b7d6093bfe7628f6e16c60e7f2ce918\n",
            "  Stored in directory: /tmp/pip-ephem-wheel-cache-73ioa4dj/wheels/0c/d1/df/aa9a7744a4ac353cc9a1f2c3aaea7c1f457fc49de4286f2d88\n",
            "Successfully built yfinance\n",
            "Installing collected packages: yfinance\n",
            "Successfully installed yfinance-0.1.45\n"
          ],
          "name": "stdout"
        }
      ]
    },
    {
      "cell_type": "code",
      "metadata": {
        "id": "vJJ7zv0iNTUX",
        "colab_type": "code",
        "colab": {}
      },
      "source": [
        "#Another mounting step irrelevant tbh\n",
        "drive.mount('/content/drive',force_remount=True)\n",
        "%cd \"/content/drive/My Drive/\"\n"
      ],
      "execution_count": 0,
      "outputs": []
    },
    {
      "cell_type": "code",
      "metadata": {
        "id": "NyEOCr_LSxGq",
        "colab_type": "code",
        "outputId": "e758fae6-a119-4401-85aa-cabd4d4309de",
        "colab": {
          "base_uri": "https://localhost:8080/",
          "height": 34
        }
      },
      "source": [
        "#Retrieving the dataset from yahoo finance and turning it into a csv\n",
        "df_full = pdr.get_data_yahoo(\"TLS.AX\", start=\"2018-01-01\").reset_index()\n",
        "\n",
        "df_full.to_csv('TLS.AX.csv',index=False)\n"
      ],
      "execution_count": 0,
      "outputs": [
        {
          "output_type": "stream",
          "text": [
            "[*********************100%***********************]  1 of 1 downloaded\n"
          ],
          "name": "stdout"
        }
      ]
    },
    {
      "cell_type": "code",
      "metadata": {
        "id": "3_MVXnAmTxYK",
        "colab_type": "code",
        "colab": {}
      },
      "source": [
        "#Tells us the number of observations and columns aka shape \n",
        "df_full.shape"
      ],
      "execution_count": 0,
      "outputs": []
    },
    {
      "cell_type": "code",
      "metadata": {
        "id": "VwvV3sIEUSsc",
        "colab_type": "code",
        "colab": {}
      },
      "source": [
        "df_full.head()\n"
      ],
      "execution_count": 0,
      "outputs": []
    },
    {
      "cell_type": "markdown",
      "metadata": {
        "id": "RkFSyO_6nIGL",
        "colab_type": "text"
      },
      "source": [
        ""
      ]
    },
    {
      "cell_type": "code",
      "metadata": {
        "id": "kxUTDY5WU3Qj",
        "colab_type": "code",
        "colab": {}
      },
      "source": [
        "#This command gives us summary stats of all the data in each column\n",
        "df_full.describe()\n"
      ],
      "execution_count": 0,
      "outputs": []
    },
    {
      "cell_type": "code",
      "metadata": {
        "id": "5klwBudhVfym",
        "colab_type": "code",
        "colab": {}
      },
      "source": [
        "df_full[\"Adj Close\"].plot()\n"
      ],
      "execution_count": 0,
      "outputs": []
    },
    {
      "cell_type": "code",
      "metadata": {
        "id": "tenjfgfiVqaj",
        "colab_type": "code",
        "colab": {}
      },
      "source": [
        "#Setting the date as an index to pre-process the data \n",
        "df_full.set_index(\"Date\", inplace=True)\n"
      ],
      "execution_count": 0,
      "outputs": []
    },
    {
      "cell_type": "code",
      "metadata": {
        "id": "JVVX7h79Ws56",
        "colab_type": "code",
        "colab": {}
      },
      "source": [
        "#Brief screenshot of the data \n",
        "df_full.head()\n"
      ],
      "execution_count": 0,
      "outputs": []
    },
    {
      "cell_type": "code",
      "metadata": {
        "id": "9pHrH5J6WxOY",
        "colab_type": "code",
        "colab": {}
      },
      "source": [
        "window_size = 32\n",
        "num_samples = len(df_full)-window_size\n",
        "\n",
        "#Making the data into an array\n",
        "indices = np.arange(num_samples).astype(np.int)[:,None]+np.arange(window_size+1).astype(np.int)\n",
        "\n",
        "data = df_full['Adj Close'].values[indices]#making a 2D matrix\n",
        "\n",
        "x = data[:,:-1] # Each row represents 32 days in the past\n",
        "y = data[:,-1] # Each output value represents the 33rd day"
      ],
      "execution_count": 0,
      "outputs": []
    },
    {
      "cell_type": "code",
      "metadata": {
        "id": "1Lee4evOjIGJ",
        "colab_type": "code",
        "colab": {}
      },
      "source": [
        "#Splitting the data for cross validation ie to train alg\n",
        "split_fraction=0.8\n",
        "ind_split=int(split_fraction*num_samples)\n"
      ],
      "execution_count": 0,
      "outputs": []
    },
    {
      "cell_type": "code",
      "metadata": {
        "id": "eyLcA1iDmrgs",
        "colab_type": "code",
        "colab": {}
      },
      "source": [
        "#Training the algorithm\n",
        "x_train = x[:ind_split]\n",
        "y_train = y[:ind_split]\n",
        "x_test = x[ind_split:]\n",
        "y_test = y[ind_split:]"
      ],
      "execution_count": 0,
      "outputs": []
    },
    {
      "cell_type": "code",
      "metadata": {
        "id": "4v_h--JIm0CP",
        "colab_type": "code",
        "outputId": "d1b3ab86-09b6-438d-8065-fc2bca82ba7a",
        "colab": {
          "base_uri": "https://localhost:8080/",
          "height": 34
        }
      },
      "source": [
        "#shows the shape of the data \n",
        "y_test.shape"
      ],
      "execution_count": 0,
      "outputs": [
        {
          "output_type": "execute_result",
          "data": {
            "text/plain": [
              "(80,)"
            ]
          },
          "metadata": {
            "tags": []
          },
          "execution_count": 20
        }
      ]
    },
    {
      "cell_type": "markdown",
      "metadata": {
        "id": "mXq7VfuLuGLL",
        "colab_type": "text"
      },
      "source": [
        "# Baseline to compare "
      ]
    },
    {
      "cell_type": "code",
      "metadata": {
        "id": "MFLUmiAJqf--",
        "colab_type": "code",
        "colab": {}
      },
      "source": [
        "#Creating a model by defining a function\n",
        "#Help Functions\n",
        "def get_performance (model_pred):\n",
        "  #Function returns standard performance metrics\n",
        "  print('Mean Absolute Error:', metrics.mean_absolute_error(y_test, model_pred).round(4))  \n",
        "  print('Mean Squared Error:', metrics.mean_squared_error(y_test, model_pred).round(4))  \n",
        "  print('Root Mean Squared Error:', np.sqrt(metrics.mean_squared_error(y_test, model_pred)).round(4))\n",
        "  \n",
        "  \n",
        "def get_plot (model_pred):\n",
        "  \n",
        "  plt.scatter(model_pred, y_test, color=\"gray\")\n",
        "  plt.plot(y_test, y_test, color='red', linewidth=2)"
      ],
      "execution_count": 0,
      "outputs": []
    },
    {
      "cell_type": "code",
      "metadata": {
        "id": "NHamQ48gryF7",
        "colab_type": "code",
        "colab": {}
      },
      "source": [
        "y_pred_lag=np.roll(y_test,1)\n"
      ],
      "execution_count": 0,
      "outputs": []
    },
    {
      "cell_type": "code",
      "metadata": {
        "id": "WVwJkDPZs5tC",
        "colab_type": "code",
        "outputId": "1e71fe18-69bb-4784-d2bb-d8a0b1a1e28d",
        "colab": {
          "base_uri": "https://localhost:8080/",
          "height": 68
        }
      },
      "source": [
        "get_performance(y_pred_lag)\n"
      ],
      "execution_count": 0,
      "outputs": [
        {
          "output_type": "stream",
          "text": [
            "Mean Absolute Error: 0.0368\n",
            "Mean Squared Error: 0.0021\n",
            "Root Mean Squared Error: 0.0453\n"
          ],
          "name": "stdout"
        }
      ]
    },
    {
      "cell_type": "code",
      "metadata": {
        "id": "ZonpzLH7s_FO",
        "colab_type": "code",
        "colab": {}
      },
      "source": [
        "get_plot(y_pred_lag)\n"
      ],
      "execution_count": 0,
      "outputs": []
    },
    {
      "cell_type": "markdown",
      "metadata": {
        "id": "MOH6BbsWF-kU",
        "colab_type": "text"
      },
      "source": [
        "# Linear Regression\n"
      ]
    },
    {
      "cell_type": "code",
      "metadata": {
        "id": "EAYf-6ipucFs",
        "colab_type": "code",
        "colab": {}
      },
      "source": [
        "model_lr=LinearRegression()\n",
        "model_lr.fit(x_train, y_train)\n",
        "             "
      ],
      "execution_count": 0,
      "outputs": []
    },
    {
      "cell_type": "code",
      "metadata": {
        "id": "S7EO3dprCZy0",
        "colab_type": "code",
        "colab": {}
      },
      "source": [
        "y_pred_lr=model_lr.predict(x_test)\n"
      ],
      "execution_count": 0,
      "outputs": []
    },
    {
      "cell_type": "code",
      "metadata": {
        "id": "VYMhY9T8D5pG",
        "colab_type": "code",
        "outputId": "3265aceb-1d73-49f1-ef46-4ab4aa55cfda",
        "colab": {
          "base_uri": "https://localhost:8080/",
          "height": 68
        }
      },
      "source": [
        "get_performance(y_pred_lr)\n"
      ],
      "execution_count": 0,
      "outputs": [
        {
          "output_type": "stream",
          "text": [
            "Mean Absolute Error: 0.0416\n",
            "Mean Squared Error: 0.0025\n",
            "Root Mean Squared Error: 0.0501\n"
          ],
          "name": "stdout"
        }
      ]
    },
    {
      "cell_type": "code",
      "metadata": {
        "id": "jvyy4sGVGKLK",
        "colab_type": "code",
        "colab": {}
      },
      "source": [
        "get_plot(y_pred_lr)\n"
      ],
      "execution_count": 0,
      "outputs": []
    },
    {
      "cell_type": "code",
      "metadata": {
        "id": "4Wp8gm7QN2yE",
        "colab_type": "code",
        "colab": {}
      },
      "source": [
        "#Predicted Slope coefficients of Telstra\n",
        "model_lr.coef_\n"
      ],
      "execution_count": 0,
      "outputs": []
    },
    {
      "cell_type": "code",
      "metadata": {
        "id": "6cVuDHRuOcN5",
        "colab_type": "code",
        "colab": {}
      },
      "source": [
        "#Intercept\n",
        "model_lr.intercept_\n"
      ],
      "execution_count": 0,
      "outputs": []
    },
    {
      "cell_type": "markdown",
      "metadata": {
        "id": "cmR8PrUnMcrU",
        "colab_type": "text"
      },
      "source": [
        "# Ridge Regression\n"
      ]
    },
    {
      "cell_type": "code",
      "metadata": {
        "id": "lhYaZgYJMbU6",
        "colab_type": "code",
        "colab": {}
      },
      "source": [
        "model_ridge = Ridge()\n",
        "model_ridge.fit(x_train, y_train)\n",
        "\n",
        "#generate predictions\n",
        "y_pred_ridge=model_ridge.predict(x_test)"
      ],
      "execution_count": 0,
      "outputs": []
    },
    {
      "cell_type": "code",
      "metadata": {
        "id": "T7rFnMxVMv1X",
        "colab_type": "code",
        "colab": {}
      },
      "source": [
        "get_performance(y_pred_ridge)\n"
      ],
      "execution_count": 0,
      "outputs": []
    },
    {
      "cell_type": "markdown",
      "metadata": {
        "id": "f6Ymtd1GumVh",
        "colab_type": "text"
      },
      "source": [
        ""
      ]
    },
    {
      "cell_type": "code",
      "metadata": {
        "id": "wbgbJfJ5QR_P",
        "colab_type": "code",
        "colab": {}
      },
      "source": [
        "get_plot(y_pred_ridge)\n"
      ],
      "execution_count": 0,
      "outputs": []
    },
    {
      "cell_type": "markdown",
      "metadata": {
        "id": "Ip0AQGMqU11R",
        "colab_type": "text"
      },
      "source": [
        "Lasso Regression"
      ]
    },
    {
      "cell_type": "code",
      "metadata": {
        "id": "pji-Ry3OU1O6",
        "colab_type": "code",
        "colab": {}
      },
      "source": [
        "model_lasso = Lasso()\n",
        "model_lasso.fit(x_train, y_train)\n"
      ],
      "execution_count": 0,
      "outputs": []
    },
    {
      "cell_type": "code",
      "metadata": {
        "id": "neuTXZtLVMX_",
        "colab_type": "code",
        "colab": {}
      },
      "source": [
        "y_pred_lasso = model_lasso.predict(x_test)\n"
      ],
      "execution_count": 0,
      "outputs": []
    },
    {
      "cell_type": "code",
      "metadata": {
        "id": "iEVkBClIVXfv",
        "colab_type": "code",
        "outputId": "e7a7ffa4-9baa-424c-e295-b1c94f6faadb",
        "colab": {
          "base_uri": "https://localhost:8080/",
          "height": 68
        }
      },
      "source": [
        "get_performance(y_pred_lasso)\n",
        "\n"
      ],
      "execution_count": 0,
      "outputs": [
        {
          "output_type": "stream",
          "text": [
            "Mean Absolute Error: 0.7565\n",
            "Mean Squared Error: 0.5857\n",
            "Root Mean Squared Error: 0.7653\n"
          ],
          "name": "stdout"
        }
      ]
    },
    {
      "cell_type": "code",
      "metadata": {
        "id": "gum6eGMaVklJ",
        "colab_type": "code",
        "outputId": "35e39554-0d01-4505-bfc6-992665135f3e",
        "colab": {
          "base_uri": "https://localhost:8080/",
          "height": 269
        }
      },
      "source": [
        "get_plot(y_pred_lasso)"
      ],
      "execution_count": 0,
      "outputs": [
        {
          "output_type": "display_data",
          "data": {
            "image/png": "[encoded data removed]",
            "text/plain": [
              "<Figure size 432x288 with 1 Axes>"
            ]
          },
          "metadata": {
            "tags": []
          }
        }
      ]
    }
  ]
}